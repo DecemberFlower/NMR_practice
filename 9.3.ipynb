{
 "cells": [
  {
   "cell_type": "code",
   "execution_count": 1,
   "metadata": {},
   "outputs": [],
   "source": [
    "#Importing libraries\n",
    "from math import exp, sin, cos, pi\n",
    "import numpy as np\n",
    "import matplotlib.pyplot as plt"
   ]
  },
  {
   "cell_type": "code",
   "execution_count": 2,
   "metadata": {},
   "outputs": [],
   "source": [
    "def iteration(h, f, x, y):\n",
    "    k1 = f(x, y)\n",
    "    k2 = f(x + h / 2, y + h / 2 * k1)\n",
    "    k3 = f(x + h / 2, y + h / 2 * k2)\n",
    "    k4 = f(x + h, y + h * k3)\n",
    "    r = y + (k1 + 2 * k2 + 2 * k3 + k4) * h / 6\n",
    "    return x + h, r"
   ]
  },
  {
   "cell_type": "code",
   "execution_count": 3,
   "metadata": {},
   "outputs": [],
   "source": [
    "# Runge-Kutta process\n",
    "def runge(t, h, x0, y0, f):\n",
    "    a = []\n",
    "    time = []\n",
    "    a.append(y0)\n",
    "    time.append(x0)\n",
    "    x, y = x0, y0\n",
    "    for i in range(int(t / h)):\n",
    "        x, y = iteration(h, f, x, y)\n",
    "        a.append(y)\n",
    "        time.append(x)\n",
    "    return time, a"
   ]
  },
  {
   "cell_type": "code",
   "execution_count": 4,
   "metadata": {},
   "outputs": [],
   "source": [
    "# Runge-Kutta process plus F(t)\n",
    "def runge_modif(t, h, x0, y0, f, N):\n",
    "    Id = np.eye(2)\n",
    "    Sx = np.array([[0, 1], [1, 0]]) / 2\n",
    "    M = np.zeros((2 ** N, 2 ** N))\n",
    "    for i in range(N):\n",
    "        s = np.eye(1)\n",
    "        for j in range(N):\n",
    "            if (j == i):\n",
    "                s = np.kron(s, Sx)\n",
    "            else :\n",
    "                s = np.kron(s, Id)\n",
    "        M += s\n",
    "    a = []\n",
    "    time = []\n",
    "    F = []\n",
    "    F0 = np.dot(np.dot(y0.conj().T, M), y0)\n",
    "    a.append(y0)\n",
    "    time.append(x0)\n",
    "    F.append(1)\n",
    "    x, y = x0, y0\n",
    "    for i in range(int(t / h)):\n",
    "        x, y = iteration(h, f, x, y)\n",
    "        F.append((np.dot(np.dot(y.conj().T, M), y)).item() / (F0).item())\n",
    "        a.append(y)\n",
    "        time.append(x)\n",
    "    return time, a, F"
   ]
  },
  {
   "cell_type": "code",
   "execution_count": 5,
   "metadata": {},
   "outputs": [],
   "source": [
    "# Random initialization\n",
    "def rand_init(N):\n",
    "    y = np.random.rand(2 ** N, 1)\n",
    "    y = y / np.linalg.norm(y)\n",
    "    ph = np.random.rand(2 ** N, 1) * 2 * pi\n",
    "    ph = np.exp(1j * ph)\n",
    "    return y * ph"
   ]
  },
  {
   "cell_type": "code",
   "execution_count": 6,
   "metadata": {},
   "outputs": [
    {
     "name": "stdout",
     "output_type": "stream",
     "text": [
      "[[-0.14922167-0.07028543j]\n",
      " [-0.11845815+0.104389j  ]\n",
      " [ 0.07343571+0.48018669j]\n",
      " [ 0.67140127-0.51099092j]]\n"
     ]
    }
   ],
   "source": [
    "print(rand_init(2))"
   ]
  },
  {
   "cell_type": "code",
   "execution_count": 7,
   "metadata": {},
   "outputs": [],
   "source": [
    "#Termal initial spin evolution function\n",
    "class term_ev:\n",
    "    def __init__(self, const = 1):\n",
    "        self.N = const\n",
    "        \n",
    "    def __call__(self, x, y):\n",
    "        Id = np.eye(2)\n",
    "        Sx = np.array([[0, 1], [1, 0]]) / 2\n",
    "        H = np.zeros((2 ** self.N, 2 ** self.N))\n",
    "        for i in range(self.N):\n",
    "            s = np.eye(1)\n",
    "            for j in range(self.N):\n",
    "                if (j == i):\n",
    "                    s = np.kron(s, Sx)\n",
    "                else :\n",
    "                    s = np.kron(s, Id)\n",
    "            H += s\n",
    "        return(-1 * np.dot(H, y))"
   ]
  },
  {
   "cell_type": "code",
   "execution_count": 8,
   "metadata": {},
   "outputs": [],
   "source": [
    "#Evolution function\n",
    "class ev:\n",
    "    def __init__(self, const = np.array([])):\n",
    "        self.H = const\n",
    "        \n",
    "    def __call__(self, x, y):\n",
    "        return(-1j * np.dot(self.H, y))"
   ]
  },
  {
   "cell_type": "code",
   "execution_count": 9,
   "metadata": {},
   "outputs": [
    {
     "data": {
      "text/plain": [
       "array([[-0.03157289-0.10768545j],\n",
       "       [ 0.59818033+0.02945387j],\n",
       "       [ 0.59818033+0.02945387j],\n",
       "       [-0.03157289-0.10768545j]])"
      ]
     },
     "execution_count": 9,
     "metadata": {},
     "output_type": "execute_result"
    }
   ],
   "source": [
    "#checking\n",
    "funct = term_ev() \n",
    "funct.N = 2\n",
    "x0 = 0\n",
    "y0 = rand_init((2))\n",
    "funct(x0, y0)"
   ]
  },
  {
   "cell_type": "code",
   "execution_count": 10,
   "metadata": {},
   "outputs": [],
   "source": [
    "#initialization of initial state\n",
    "def termal_initialization(N, T):\n",
    "    x0 = 0\n",
    "    y0 = rand_init(N)\n",
    "    f = term_ev()\n",
    "    f.N = N\n",
    "    x, y = runge(1 / (2 * T), 1 / (2 * T * 1000), x0, y0, f)\n",
    "    return y[-1]/np.linalg.norm(y[-1])"
   ]
  },
  {
   "cell_type": "code",
   "execution_count": 11,
   "metadata": {},
   "outputs": [
    {
     "data": {
      "text/plain": [
       "array([[0.06874481-0.47792875j],\n",
       "       [0.00077717+0.00985592j],\n",
       "       [0.19171502+0.13416739j],\n",
       "       [0.67933855-0.50050386j]])"
      ]
     },
     "execution_count": 11,
     "metadata": {},
     "output_type": "execute_result"
    }
   ],
   "source": [
    "#checking\n",
    "termal_initialization(2, 10)"
   ]
  },
  {
   "cell_type": "code",
   "execution_count": 12,
   "metadata": {},
   "outputs": [],
   "source": [
    "#building of hamiltonian\n",
    "def Hamilt(N, Jp, Jz):\n",
    "    Id = np.eye(2)\n",
    "    Sx = np.array([[0, 1], [1, 0]]) / 2\n",
    "    Sy = np.array([[0, -1j], [1j, 0]]) / 2\n",
    "    Sz = np.array([[1, 0], [0, -1]]) / 2\n",
    "    H = np.zeros((2 ** N, 2 ** N))\n",
    "    for i in range(N - 1):\n",
    "        sx = np.eye(1)\n",
    "        sy = np.eye(1)\n",
    "        sz = np.eye(1)\n",
    "        j = 0\n",
    "        while j < N:\n",
    "            if (j == i) :\n",
    "                j += 1\n",
    "                sx = np.kron(np.kron(sx, Sx), Sx)\n",
    "                sy = np.kron(np.kron(sy, Sy), Sy)\n",
    "                sz = np.kron(np.kron(sz, Sz), Sz)\n",
    "            else:\n",
    "                sx = np.kron(sx, Id)\n",
    "                sy = np.kron(sy, Id)\n",
    "                sz = np.kron(sz, Id)\n",
    "            j += 1\n",
    "        H = H + Jp * (sx + sy) + Jz * sz\n",
    "    if N > 2 :\n",
    "        sx = Sx\n",
    "        sy = Sy\n",
    "        sz = Sz\n",
    "        for i in range(N - 2):\n",
    "            sx = np.kron(sx, Id)\n",
    "            sy = np.kron(sy, Id)\n",
    "            sz = np.kron(sz, Id)\n",
    "        sx = np.kron(sx, Sx)\n",
    "        sy = np.kron(sy, Sy)\n",
    "        sz = np.kron(sz, Sz)\n",
    "        H = H + Jp * (sx + sy) + Jz * sz\n",
    "    return(H)"
   ]
  },
  {
   "cell_type": "code",
   "execution_count": 13,
   "metadata": {},
   "outputs": [
    {
     "data": {
      "text/plain": [
       "array([[ 0.205+0.j,  0.   +0.j,  0.   +0.j,  0.   +0.j],\n",
       "       [ 0.   +0.j, -0.205+0.j, -0.205+0.j,  0.   +0.j],\n",
       "       [ 0.   +0.j, -0.205+0.j, -0.205+0.j,  0.   +0.j],\n",
       "       [ 0.   +0.j,  0.   +0.j,  0.   +0.j,  0.205+0.j]])"
      ]
     },
     "execution_count": 13,
     "metadata": {},
     "output_type": "execute_result"
    }
   ],
   "source": [
    "#checking\n",
    "Hamilt(2, -0.41, 0.82)"
   ]
  },
  {
   "cell_type": "code",
   "execution_count": 14,
   "metadata": {},
   "outputs": [],
   "source": [
    "#solution of the problem\n",
    "def sol(N, Jp, Jz, T, h, t, M):\n",
    "    H = Hamilt(N, Jp, Jz)\n",
    "    x0 = 0\n",
    "    F_av = np.zeros(int(t / h) + 1)\n",
    "    f = ev()\n",
    "    f.H = H\n",
    "    for j in range(M):\n",
    "        y0 = termal_initialization(N, T)\n",
    "        x, y, F = runge_modif(t, h, x0, y0, f, N)\n",
    "        F_av += np.real(np.array(F)) / M\n",
    "    plt.plot(x, F_av)\n",
    "    plt.show()"
   ]
  },
  {
   "cell_type": "code",
   "execution_count": 15,
   "metadata": {},
   "outputs": [
    {
     "data": {
      "image/png": "[encoded data removed]",
      "text/plain": [
       "<Figure size 432x288 with 1 Axes>"
      ]
     },
     "metadata": {
      "needs_background": "light"
     },
     "output_type": "display_data"
    }
   ],
   "source": [
    "sol(9, -0.41, 0.82, 10, 0.01, 40, 100)"
   ]
  },
  {
   "cell_type": "code",
   "execution_count": null,
   "metadata": {},
   "outputs": [],
   "source": [
    "sol(9, -0.41, 0.82, 10, 0.01, 40, 100)"
   ]
  }
 ],
 "metadata": {
  "kernelspec": {
   "display_name": "Python 3",
   "language": "python",
   "name": "python3"
  },
  "language_info": {
   "codemirror_mode": {
    "name": "ipython",
    "version": 3
   },
   "file_extension": ".py",
   "mimetype": "text/x-python",
   "name": "python",
   "nbconvert_exporter": "python",
   "pygments_lexer": "ipython3",
   "version": "3.8.5"
  }
 },
 "nbformat": 4,
 "nbformat_minor": 4
}
