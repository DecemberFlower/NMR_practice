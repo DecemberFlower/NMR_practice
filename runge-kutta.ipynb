{
 "cells": [
  {
   "cell_type": "code",
   "execution_count": 1,
   "metadata": {},
   "outputs": [],
   "source": [
    "from math import exp\n",
    "import numpy as np\n",
    "import matplotlib.pyplot as plt"
   ]
  },
  {
   "cell_type": "code",
   "execution_count": 2,
   "metadata": {},
   "outputs": [],
   "source": [
    "#Classical spin evolution function\n",
    "class Spin_classic:\n",
    "    def __init__(self, const=np.array([0, 0, 0])):\n",
    "        self.H = const\n",
    "        \n",
    "    def __call__(self, x, y):\n",
    "        return np.cross(y, self.H)"
   ]
  },
  {
   "cell_type": "code",
   "execution_count": 4,
   "metadata": {},
   "outputs": [],
   "source": [
    "#Initialization\n",
    "funct = Spin_classic()"
   ]
  },
  {
   "cell_type": "code",
   "execution_count": 5,
   "metadata": {},
   "outputs": [],
   "source": [
    "#funct.H = np.array([0, 0, 5])\n",
    "#funct(np.array([0, 1, 0]), np.array([1, 2, 1]))"
   ]
  },
  {
   "cell_type": "code",
   "execution_count": 6,
   "metadata": {},
   "outputs": [],
   "source": [
    "# One runge-kutta iteration function\n",
    "def iteration(h, f, x, y):\n",
    "    k1 = f(x, y)\n",
    "    k2 = f(x + h / 2, y + h / 2 * k1)\n",
    "    k3 = f(x + h / 2, y + h / 2 * k2)\n",
    "    k4 = f(x + h, y + h * k3)\n",
    "    r = y + (k1 + 2 * k2 + 2 * k3 + k4) * h / 6\n",
    "    return x + h, r\n"
   ]
  },
  {
   "cell_type": "code",
   "execution_count": 7,
   "metadata": {},
   "outputs": [],
   "source": [
    "#a, b = iteration(0.001, funct, np.array([0, 1, 0]), np.array([1, 1, 1]))\n",
    "#print(a, b)"
   ]
  },
  {
   "cell_type": "code",
   "execution_count": 8,
   "metadata": {},
   "outputs": [],
   "source": [
    "# Runge-Kutta process\n",
    "def runge(t, h, x0, y0, f):\n",
    "    a = []\n",
    "    a.append((x0, y0))\n",
    "    x, y = x0, y0\n",
    "    for i in range(int(t / h)):\n",
    "        x, y = iteration(h, f, x, y)\n",
    "        a.append([x, y])\n",
    "    return a"
   ]
  },
  {
   "cell_type": "code",
   "execution_count": 9,
   "metadata": {},
   "outputs": [],
   "source": [
    "x0 = 0\n",
    "funct.H = np.array([0, 0, 1])\n",
    "y0 = np.array([np.sqrt(1 / 2), 0, np.sqrt(1 / 2)])\n"
   ]
  },
  {
   "cell_type": "code",
   "execution_count": 10,
   "metadata": {},
   "outputs": [],
   "source": [
    "#funct(0, y0)"
   ]
  },
  {
   "cell_type": "code",
   "execution_count": 11,
   "metadata": {},
   "outputs": [],
   "source": [
    "#Calculating itself\n",
    "a = runge(10, 0.01, x0, y0, funct)"
   ]
  },
  {
   "cell_type": "code",
   "execution_count": 12,
   "metadata": {},
   "outputs": [
    {
     "data": {
      "image/png": "[encoded data removed]",
      "text/plain": [
       "<Figure size 432x288 with 1 Axes>"
      ]
     },
     "metadata": {
      "needs_background": "light"
     },
     "output_type": "display_data"
    }
   ],
   "source": [
    "#Plot building\n",
    "x = [a[i][0] for i in range(len(a))]\n",
    "y = [a[i][1][0] for i in range(len(a))]\n",
    "z = [a[i][1][1] for i in range(len(a))]\n",
    "plt.plot(x, y)\n",
    "plt.plot(x, z)\n",
    "plt.show()"
   ]
  },
  {
   "cell_type": "code",
   "execution_count": 13,
   "metadata": {},
   "outputs": [],
   "source": [
    "#Here and further is quantum broblem solution\n",
    "class Spin_quantum():\n",
    "    def __init__(self, const=np.array([0, 0, 0])):\n",
    "        self.H = const\n",
    "        \n",
    "    def __call__(self, x, y):\n",
    "        Ham = -1j * (self.H[0] * np.array([[0, 1], [1, 0]]) + self.H[1] * np.array([[0, -1j], [1j, 0]]) + self.H[2] * np.array([[1, 0], [0, -1]]))\n",
    "        return np.dot(Ham, y)\n"
   ]
  },
  {
   "cell_type": "code",
   "execution_count": 14,
   "metadata": {},
   "outputs": [],
   "source": [
    "hamilt = Spin_quantum()"
   ]
  },
  {
   "cell_type": "code",
   "execution_count": 15,
   "metadata": {},
   "outputs": [],
   "source": [
    "x0 = 0\n",
    "hamilt.H = np.array([0, 0, 1])\n",
    "y0 = np.sqrt(np.array([0.5, 0.5]))"
   ]
  },
  {
   "cell_type": "code",
   "execution_count": 16,
   "metadata": {},
   "outputs": [],
   "source": [
    "a = runge(10, 0.01, x0, y0, hamilt)"
   ]
  },
  {
   "cell_type": "code",
   "execution_count": null,
   "metadata": {},
   "outputs": [],
   "source": [
    "#print(hamilt(0, np.array([0, 1])))"
   ]
  },
  {
   "cell_type": "code",
   "execution_count": null,
   "metadata": {},
   "outputs": [],
   "source": []
  },
  {
   "cell_type": "code",
   "execution_count": null,
   "metadata": {},
   "outputs": [],
   "source": []
  }
 ],
 "metadata": {
  "kernelspec": {
   "display_name": "Python 3",
   "language": "python",
   "name": "python3"
  },
  "language_info": {
   "codemirror_mode": {
    "name": "ipython",
    "version": 3
   },
   "file_extension": ".py",
   "mimetype": "text/x-python",
   "name": "python",
   "nbconvert_exporter": "python",
   "pygments_lexer": "ipython3",
   "version": "3.8.5"
  }
 },
 "nbformat": 4,
 "nbformat_minor": 4
}
